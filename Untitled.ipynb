{
 "cells": [
  {
   "cell_type": "code",
   "execution_count": 187,
   "id": "ead63b00",
   "metadata": {},
   "outputs": [],
   "source": [
    "import numpy as np\n",
    "import pandas as pd\n",
    "import riskfolio as rp\n",
    "import riskfolio as rp\n",
    "import time"
   ]
  },
  {
   "cell_type": "code",
   "execution_count": 188,
   "id": "346a5bfd",
   "metadata": {},
   "outputs": [
    {
     "data": {
      "text/html": [
       "<div>\n",
       "<style scoped>\n",
       "    .dataframe tbody tr th:only-of-type {\n",
       "        vertical-align: middle;\n",
       "    }\n",
       "\n",
       "    .dataframe tbody tr th {\n",
       "        vertical-align: top;\n",
       "    }\n",
       "\n",
       "    .dataframe thead th {\n",
       "        text-align: right;\n",
       "    }\n",
       "</style>\n",
       "<table border=\"1\" class=\"dataframe\">\n",
       "  <thead>\n",
       "    <tr style=\"text-align: right;\">\n",
       "      <th></th>\n",
       "      <th>GDP</th>\n",
       "      <th>CPI</th>\n",
       "      <th>Growth</th>\n",
       "      <th>Inflation</th>\n",
       "      <th>Theme</th>\n",
       "      <th>DateM</th>\n",
       "    </tr>\n",
       "    <tr>\n",
       "      <th>Date</th>\n",
       "      <th></th>\n",
       "      <th></th>\n",
       "      <th></th>\n",
       "      <th></th>\n",
       "      <th></th>\n",
       "      <th></th>\n",
       "    </tr>\n",
       "  </thead>\n",
       "  <tbody>\n",
       "    <tr>\n",
       "      <th>1958-01-01</th>\n",
       "      <td>-2.871428</td>\n",
       "      <td>2.807018</td>\n",
       "      <td>low</td>\n",
       "      <td>high</td>\n",
       "      <td>Stagflation</td>\n",
       "      <td>1958-01</td>\n",
       "    </tr>\n",
       "    <tr>\n",
       "      <th>1958-02-01</th>\n",
       "      <td>-2.871428</td>\n",
       "      <td>2.797203</td>\n",
       "      <td>low</td>\n",
       "      <td>high</td>\n",
       "      <td>Stagflation</td>\n",
       "      <td>1958-02</td>\n",
       "    </tr>\n",
       "    <tr>\n",
       "      <th>1958-03-01</th>\n",
       "      <td>-2.871428</td>\n",
       "      <td>2.787456</td>\n",
       "      <td>low</td>\n",
       "      <td>high</td>\n",
       "      <td>Stagflation</td>\n",
       "      <td>1958-03</td>\n",
       "    </tr>\n",
       "    <tr>\n",
       "      <th>1958-04-01</th>\n",
       "      <td>-2.018409</td>\n",
       "      <td>2.430556</td>\n",
       "      <td>low</td>\n",
       "      <td>high</td>\n",
       "      <td>Stagflation</td>\n",
       "      <td>1958-04</td>\n",
       "    </tr>\n",
       "    <tr>\n",
       "      <th>1958-05-01</th>\n",
       "      <td>-2.018409</td>\n",
       "      <td>2.430556</td>\n",
       "      <td>low</td>\n",
       "      <td>high</td>\n",
       "      <td>Stagflation</td>\n",
       "      <td>1958-05</td>\n",
       "    </tr>\n",
       "    <tr>\n",
       "      <th>...</th>\n",
       "      <td>...</td>\n",
       "      <td>...</td>\n",
       "      <td>...</td>\n",
       "      <td>...</td>\n",
       "      <td>...</td>\n",
       "      <td>...</td>\n",
       "    </tr>\n",
       "    <tr>\n",
       "      <th>2021-11-01</th>\n",
       "      <td>5.533484</td>\n",
       "      <td>4.952634</td>\n",
       "      <td>high</td>\n",
       "      <td>high</td>\n",
       "      <td>Overheat</td>\n",
       "      <td>2021-11</td>\n",
       "    </tr>\n",
       "    <tr>\n",
       "      <th>2021-12-01</th>\n",
       "      <td>5.533484</td>\n",
       "      <td>5.476621</td>\n",
       "      <td>high</td>\n",
       "      <td>high</td>\n",
       "      <td>Overheat</td>\n",
       "      <td>2021-12</td>\n",
       "    </tr>\n",
       "    <tr>\n",
       "      <th>2022-01-01</th>\n",
       "      <td>3.939172</td>\n",
       "      <td>6.040783</td>\n",
       "      <td>high</td>\n",
       "      <td>high</td>\n",
       "      <td>Overheat</td>\n",
       "      <td>2022-01</td>\n",
       "    </tr>\n",
       "    <tr>\n",
       "      <th>2022-02-01</th>\n",
       "      <td>3.939172</td>\n",
       "      <td>6.415744</td>\n",
       "      <td>high</td>\n",
       "      <td>high</td>\n",
       "      <td>Overheat</td>\n",
       "      <td>2022-02</td>\n",
       "    </tr>\n",
       "    <tr>\n",
       "      <th>2022-03-01</th>\n",
       "      <td>3.939172</td>\n",
       "      <td>6.436039</td>\n",
       "      <td>high</td>\n",
       "      <td>high</td>\n",
       "      <td>Overheat</td>\n",
       "      <td>2022-03</td>\n",
       "    </tr>\n",
       "  </tbody>\n",
       "</table>\n",
       "<p>771 rows × 6 columns</p>\n",
       "</div>"
      ],
      "text/plain": [
       "                 GDP       CPI Growth Inflation        Theme    DateM\n",
       "Date                                                                 \n",
       "1958-01-01 -2.871428  2.807018    low      high  Stagflation  1958-01\n",
       "1958-02-01 -2.871428  2.797203    low      high  Stagflation  1958-02\n",
       "1958-03-01 -2.871428  2.787456    low      high  Stagflation  1958-03\n",
       "1958-04-01 -2.018409  2.430556    low      high  Stagflation  1958-04\n",
       "1958-05-01 -2.018409  2.430556    low      high  Stagflation  1958-05\n",
       "...              ...       ...    ...       ...          ...      ...\n",
       "2021-11-01  5.533484  4.952634   high      high     Overheat  2021-11\n",
       "2021-12-01  5.533484  5.476621   high      high     Overheat  2021-12\n",
       "2022-01-01  3.939172  6.040783   high      high     Overheat  2022-01\n",
       "2022-02-01  3.939172  6.415744   high      high     Overheat  2022-02\n",
       "2022-03-01  3.939172  6.436039   high      high     Overheat  2022-03\n",
       "\n",
       "[771 rows x 6 columns]"
      ]
     },
     "execution_count": 188,
     "metadata": {},
     "output_type": "execute_result"
    }
   ],
   "source": [
    "#截取不同阶段时间，并截取对应时间的价格数据\n",
    "\n",
    "EconData = pd.read_csv('GDP_CPI.csv')\n",
    "EconData =EconData.set_index('Unnamed: 0')\n",
    "EconData.index.name = 'Date'\n",
    "EconData.index = pd.to_datetime(EconData.index).strftime('%Y/%m/%d')\n",
    "EconData.index = pd.to_datetime(EconData.index)\n",
    "EconData['DateM'] = pd.DatetimeIndex(EconData.index).to_period('M')\n",
    "EconData"
   ]
  },
  {
   "cell_type": "code",
   "execution_count": 189,
   "id": "fda13af1",
   "metadata": {},
   "outputs": [
    {
     "name": "stdout",
     "output_type": "stream",
     "text": [
      "                  IYC        IDU        IYZ         IYW         IYJ  \\\n",
      "Date                                                                  \n",
      "2002-07-29   9.431615  12.545165   9.084387    7.225539   15.355110   \n",
      "2002-07-30   9.421006  13.465497   9.302223    7.280129   15.504374   \n",
      "2002-07-31   9.308548  13.587501   9.626035    7.140379   15.481410   \n",
      "2002-08-01   9.039073  13.314319   9.390536    6.791002   15.175227   \n",
      "2002-08-02   8.699578  13.088877   9.337548    6.581376   14.658542   \n",
      "...               ...        ...        ...         ...         ...   \n",
      "2021-08-13  78.324174  83.151732  33.432473  104.633771  113.373877   \n",
      "2021-08-16  78.395450  83.661448  33.334142  104.763503  113.731523   \n",
      "2021-08-17  77.317334  83.701821  33.176813  103.675751  112.638715   \n",
      "2021-08-18  77.117960  83.230316  32.793322  102.458267  111.575711   \n",
      "2021-08-19  77.098022  83.475891  33.098148  103.276575  111.009437   \n",
      "\n",
      "                   IYH        IYF        IYE         IYK         IYM  \\\n",
      "Date                                                                   \n",
      "2002-07-29   36.853720  24.301524   8.531252   28.767441   26.520058   \n",
      "2002-07-30   37.209571  24.495797   8.443412   28.299569   25.472195   \n",
      "2002-07-31   38.161084  24.752516   8.644802   28.840963   25.598783   \n",
      "2002-08-01   36.938815  24.225202   8.092049   28.687234   25.577685   \n",
      "2002-08-02   36.853720  23.520961   8.055627   28.607027   24.410268   \n",
      "...                ...        ...        ...         ...         ...   \n",
      "2021-08-13  286.529980  83.797787  25.977855  185.724341  134.274548   \n",
      "2021-08-16  289.257893  83.787902  25.501465  184.787833  133.306412   \n",
      "2021-08-17  292.670263  83.254095  25.326464  182.638104  131.330624   \n",
      "2021-08-18  288.166728  82.314991  24.791740  181.840297  129.700599   \n",
      "2021-08-19  288.791668  81.959119  24.120905  181.416404  127.774206   \n",
      "\n",
      "                   IYR    DateM  \n",
      "Date                             \n",
      "2002-07-29   18.203454  2002-07  \n",
      "2002-07-30   18.482820  2002-07  \n",
      "2002-07-31   18.569982  2002-07  \n",
      "2002-08-01   18.312966  2002-08  \n",
      "2002-08-02   17.910679  2002-08  \n",
      "...                ...      ...  \n",
      "2021-08-13  105.240436  2021-08  \n",
      "2021-08-16  105.102802  2021-08  \n",
      "2021-08-17  105.112633  2021-08  \n",
      "2021-08-18  104.090213  2021-08  \n",
      "2021-08-19  104.660409  2021-08  \n",
      "\n",
      "[4800 rows x 12 columns]\n",
      "                  IDU         IYH        IYE         IYK    DateM\n",
      "Date                                                             \n",
      "2002-07-29  12.545165   36.853720   8.531252   28.767441  2002-07\n",
      "2002-07-30  13.465497   37.209571   8.443412   28.299569  2002-07\n",
      "2002-07-31  13.587501   38.161084   8.644802   28.840963  2002-07\n",
      "2002-08-01  13.314319   36.938815   8.092049   28.687234  2002-08\n",
      "2002-08-02  13.088877   36.853720   8.055627   28.607027  2002-08\n",
      "...               ...         ...        ...         ...      ...\n",
      "2021-08-13  83.151732  286.529980  25.977855  185.724341  2021-08\n",
      "2021-08-16  83.661448  289.257893  25.501465  184.787833  2021-08\n",
      "2021-08-17  83.701821  292.670263  25.326464  182.638104  2021-08\n",
      "2021-08-18  83.230316  288.166728  24.791740  181.840297  2021-08\n",
      "2021-08-19  83.475891  288.791668  24.120905  181.416404  2021-08\n",
      "\n",
      "[4800 rows x 5 columns]\n"
     ]
    }
   ],
   "source": [
    "data = pd.read_csv('ishareETF_data_2002.csv')\n",
    "data =data.set_index('Unnamed: 0')\n",
    "data.index.name = 'Date'\n",
    "data.index = pd.to_datetime(data.index).strftime('%Y/%m/%d')\n",
    "data.index = pd.to_datetime(data.index)\n",
    "data['DateM'] = pd.DatetimeIndex(data.index).to_period('M')\n",
    "print(data)\n",
    "\n",
    "#data = data.drop(['IYZ','IYW','IYM','IYJ','IYW','IYM','IYE','IDU','IYR'], axis=1) #Reflection ['IYF','IYH','IYK','IYC']\n",
    "#data = data.drop(['IYJ','IYE','IDU','IYR','IYH','IYR','IDU','IYK','IYF'], axis=1) #Recovery\n",
    "#data = data.drop(['IDU','IYH','IYR','IDU','IYK','IYF','IYZ','IYC','IDU'], axis=1) #Overheat\n",
    "data = data.drop(['IYR','IYM','IYF','IYZ','IYC','IYC','IYJ','IYW'], axis=1) #Stagflation\n",
    "#data = data.drop(['IYR'], axis=1)\n",
    "print(data)"
   ]
  },
  {
   "cell_type": "code",
   "execution_count": 190,
   "id": "08648ce5",
   "metadata": {},
   "outputs": [],
   "source": [
    "def getDataRange(stage):\n",
    "    themes = EconData['Theme'].values\n",
    "    timeInd = EconData['DateM'].values\n",
    "    currentStage = stage\n",
    "    timeTarget = []\n",
    "    if(themes[0]==currentStage):\n",
    "        timeTarget.append(timeInd[0])\n",
    "    for i in range(1,len(EconData)):\n",
    "        if (themes[i-1] == currentStage) & (themes[i] != currentStage):\n",
    "            #print(timeInd[i-1])\n",
    "            timeTarget.append(timeInd[i-1])\n",
    "        elif (themes[i]==currentStage) & (themes[i-1] != currentStage):\n",
    "            timeTarget.append(timeInd[i])\n",
    "    timeTarget.append(timeInd[len(timeInd)-1])\n",
    "    return timeTarget"
   ]
  },
  {
   "cell_type": "code",
   "execution_count": 191,
   "id": "85d831f9",
   "metadata": {
    "scrolled": false
   },
   "outputs": [
    {
     "name": "stdout",
     "output_type": "stream",
     "text": [
      "                 IDU       IYH       IYE       IYK\n",
      "Date                                              \n",
      "2002-07-30  0.073362  0.009656 -0.010296 -0.016264\n",
      "2002-07-31  0.009060  0.025572  0.023852  0.019131\n",
      "2002-08-01 -0.020105 -0.032029 -0.063941 -0.005330\n",
      "2002-08-02 -0.016932 -0.002304 -0.004501 -0.002796\n",
      "2002-08-05 -0.014590 -0.042821 -0.047872 -0.011682\n",
      "2002-08-06  0.035780  0.020833  0.045531 -0.001891\n",
      "2002-08-07  0.011316  0.036305  0.010152  0.016106\n",
      "2002-08-08  0.004319  0.035240  0.046549  0.024476\n",
      "2002-08-09  0.005864 -0.004806  0.015416  0.002275\n",
      "2002-08-12  0.023125  0.002213  0.001742 -0.001135\n"
     ]
    },
    {
     "data": {
      "text/html": [
       "<div>\n",
       "<style scoped>\n",
       "    .dataframe tbody tr th:only-of-type {\n",
       "        vertical-align: middle;\n",
       "    }\n",
       "\n",
       "    .dataframe tbody tr th {\n",
       "        vertical-align: top;\n",
       "    }\n",
       "\n",
       "    .dataframe thead th {\n",
       "        text-align: right;\n",
       "    }\n",
       "</style>\n",
       "<table border=\"1\" class=\"dataframe\">\n",
       "  <thead>\n",
       "    <tr style=\"text-align: right;\">\n",
       "      <th></th>\n",
       "      <th>IDU</th>\n",
       "      <th>IYH</th>\n",
       "      <th>IYE</th>\n",
       "      <th>IYK</th>\n",
       "    </tr>\n",
       "  </thead>\n",
       "  <tbody>\n",
       "    <tr>\n",
       "      <th>weights</th>\n",
       "      <td>0.207298</td>\n",
       "      <td>0.247673</td>\n",
       "      <td>0.198199</td>\n",
       "      <td>0.34683</td>\n",
       "    </tr>\n",
       "  </tbody>\n",
       "</table>\n",
       "</div>"
      ],
      "text/plain": [
       "              IDU       IYH       IYE      IYK\n",
       "weights  0.207298  0.247673  0.198199  0.34683"
      ]
     },
     "metadata": {},
     "output_type": "display_data"
    },
    {
     "name": "stdout",
     "output_type": "stream",
     "text": [
      "                 IDU       IYH       IYE       IYK\n",
      "Date                                              \n",
      "2006-07-05 -0.004018 -0.004778  0.002362 -0.006709\n",
      "2006-07-06 -0.004916  0.004469 -0.000102  0.011069\n",
      "2006-07-07  0.006334  0.000659 -0.013527 -0.002969\n",
      "2006-07-10  0.006546  0.002635  0.001974  0.004839\n",
      "2006-07-11  0.007004  0.003614  0.018351  0.004445\n",
      "2006-07-12 -0.006085 -0.007038 -0.002443 -0.008667\n",
      "2006-07-13 -0.003124 -0.007912 -0.008981 -0.008371\n",
      "2006-07-14 -0.001755 -0.009802  0.013079 -0.007878\n",
      "2006-07-17  0.002009  0.004195 -0.029684  0.000756\n",
      "2006-07-18  0.002506 -0.000501  0.003667  0.003212\n"
     ]
    },
    {
     "name": "stderr",
     "output_type": "stream",
     "text": [
      "/tmp/ipykernel_20935/2870847099.py:37: FutureWarning: The frame.append method is deprecated and will be removed from pandas in a future version. Use pandas.concat instead.\n",
      "  buket = buket.append(w_rp.T.iloc[0], ignore_index=True)\n"
     ]
    },
    {
     "data": {
      "text/html": [
       "<div>\n",
       "<style scoped>\n",
       "    .dataframe tbody tr th:only-of-type {\n",
       "        vertical-align: middle;\n",
       "    }\n",
       "\n",
       "    .dataframe tbody tr th {\n",
       "        vertical-align: top;\n",
       "    }\n",
       "\n",
       "    .dataframe thead th {\n",
       "        text-align: right;\n",
       "    }\n",
       "</style>\n",
       "<table border=\"1\" class=\"dataframe\">\n",
       "  <thead>\n",
       "    <tr style=\"text-align: right;\">\n",
       "      <th></th>\n",
       "      <th>IDU</th>\n",
       "      <th>IYH</th>\n",
       "      <th>IYE</th>\n",
       "      <th>IYK</th>\n",
       "    </tr>\n",
       "  </thead>\n",
       "  <tbody>\n",
       "    <tr>\n",
       "      <th>weights</th>\n",
       "      <td>0.290077</td>\n",
       "      <td>0.25038</td>\n",
       "      <td>0.153818</td>\n",
       "      <td>0.305725</td>\n",
       "    </tr>\n",
       "  </tbody>\n",
       "</table>\n",
       "</div>"
      ],
      "text/plain": [
       "              IDU      IYH       IYE       IYK\n",
       "weights  0.290077  0.25038  0.153818  0.305725"
      ]
     },
     "metadata": {},
     "output_type": "display_data"
    },
    {
     "name": "stderr",
     "output_type": "stream",
     "text": [
      "/tmp/ipykernel_20935/2870847099.py:37: FutureWarning: The frame.append method is deprecated and will be removed from pandas in a future version. Use pandas.concat instead.\n",
      "  buket = buket.append(w_rp.T.iloc[0], ignore_index=True)\n"
     ]
    },
    {
     "name": "stdout",
     "output_type": "stream",
     "text": [
      "                 IDU       IYH       IYE       IYK\n",
      "Date                                              \n",
      "2007-01-04 -0.001220  0.010683 -0.018892  0.002510\n",
      "2007-01-05 -0.017681 -0.005955  0.006363 -0.006176\n",
      "2007-01-08 -0.002006  0.002995  0.002066  0.003527\n",
      "2007-01-09  0.001133 -0.001195 -0.010207  0.000335\n",
      "2007-01-10  0.000339  0.001046 -0.016875  0.006977\n",
      "2007-01-11  0.001696  0.010904 -0.007205  0.008191\n",
      "2007-01-12 -0.007338  0.005021  0.027108 -0.003131\n",
      "2007-01-16  0.002161  0.001323 -0.010806  0.003141\n",
      "2007-01-17  0.001929  0.006900  0.011345  0.000494\n",
      "2007-01-18 -0.001925  0.003062 -0.006959 -0.001647\n"
     ]
    },
    {
     "data": {
      "text/html": [
       "<div>\n",
       "<style scoped>\n",
       "    .dataframe tbody tr th:only-of-type {\n",
       "        vertical-align: middle;\n",
       "    }\n",
       "\n",
       "    .dataframe tbody tr th {\n",
       "        vertical-align: top;\n",
       "    }\n",
       "\n",
       "    .dataframe thead th {\n",
       "        text-align: right;\n",
       "    }\n",
       "</style>\n",
       "<table border=\"1\" class=\"dataframe\">\n",
       "  <thead>\n",
       "    <tr style=\"text-align: right;\">\n",
       "      <th></th>\n",
       "      <th>IDU</th>\n",
       "      <th>IYH</th>\n",
       "      <th>IYE</th>\n",
       "      <th>IYK</th>\n",
       "    </tr>\n",
       "  </thead>\n",
       "  <tbody>\n",
       "    <tr>\n",
       "      <th>weights</th>\n",
       "      <td>0.24449</td>\n",
       "      <td>0.307852</td>\n",
       "      <td>0.152383</td>\n",
       "      <td>0.295275</td>\n",
       "    </tr>\n",
       "  </tbody>\n",
       "</table>\n",
       "</div>"
      ],
      "text/plain": [
       "             IDU       IYH       IYE       IYK\n",
       "weights  0.24449  0.307852  0.152383  0.295275"
      ]
     },
     "metadata": {},
     "output_type": "display_data"
    },
    {
     "name": "stdout",
     "output_type": "stream",
     "text": [
      "                 IDU       IYH       IYE       IYK\n",
      "Date                                              \n",
      "2011-10-04 -0.000503  0.013456  0.031221  0.017572\n",
      "2011-10-05  0.001006  0.015308  0.033541  0.010393\n",
      "2011-10-06  0.018212  0.014308  0.017806  0.018989\n",
      "2011-10-07  0.000987 -0.003337 -0.013262 -0.001477\n",
      "2011-10-10  0.021195  0.022675  0.046039  0.022478\n",
      "2011-10-11 -0.008206 -0.002530 -0.000700 -0.000913\n",
      "2011-10-12 -0.001582  0.001044  0.009454  0.010962\n",
      "2011-10-13  0.001828  0.001937 -0.002710 -0.001506\n",
      "2011-10-14  0.008393  0.007586  0.038043  0.011765\n",
      "2011-10-17 -0.002895 -0.016386 -0.017016 -0.017144\n"
     ]
    },
    {
     "name": "stderr",
     "output_type": "stream",
     "text": [
      "/tmp/ipykernel_20935/2870847099.py:37: FutureWarning: The frame.append method is deprecated and will be removed from pandas in a future version. Use pandas.concat instead.\n",
      "  buket = buket.append(w_rp.T.iloc[0], ignore_index=True)\n"
     ]
    },
    {
     "data": {
      "text/html": [
       "<div>\n",
       "<style scoped>\n",
       "    .dataframe tbody tr th:only-of-type {\n",
       "        vertical-align: middle;\n",
       "    }\n",
       "\n",
       "    .dataframe tbody tr th {\n",
       "        vertical-align: top;\n",
       "    }\n",
       "\n",
       "    .dataframe thead th {\n",
       "        text-align: right;\n",
       "    }\n",
       "</style>\n",
       "<table border=\"1\" class=\"dataframe\">\n",
       "  <thead>\n",
       "    <tr style=\"text-align: right;\">\n",
       "      <th></th>\n",
       "      <th>IDU</th>\n",
       "      <th>IYH</th>\n",
       "      <th>IYE</th>\n",
       "      <th>IYK</th>\n",
       "    </tr>\n",
       "  </thead>\n",
       "  <tbody>\n",
       "    <tr>\n",
       "      <th>weights</th>\n",
       "      <td>0.310945</td>\n",
       "      <td>0.263915</td>\n",
       "      <td>0.156909</td>\n",
       "      <td>0.268231</td>\n",
       "    </tr>\n",
       "  </tbody>\n",
       "</table>\n",
       "</div>"
      ],
      "text/plain": [
       "              IDU       IYH       IYE       IYK\n",
       "weights  0.310945  0.263915  0.156909  0.268231"
      ]
     },
     "metadata": {},
     "output_type": "display_data"
    },
    {
     "name": "stderr",
     "output_type": "stream",
     "text": [
      "/tmp/ipykernel_20935/2870847099.py:37: FutureWarning: The frame.append method is deprecated and will be removed from pandas in a future version. Use pandas.concat instead.\n",
      "  buket = buket.append(w_rp.T.iloc[0], ignore_index=True)\n"
     ]
    },
    {
     "name": "stdout",
     "output_type": "stream",
     "text": [
      "                 IDU       IYH       IYE       IYK\n",
      "Date                                              \n",
      "2012-04-03  0.000462  0.002262 -0.008826 -0.003665\n",
      "2012-04-04 -0.001617 -0.007215 -0.013718 -0.003840\n",
      "2012-04-05 -0.007751  0.000640 -0.005124 -0.001348\n",
      "2012-04-09 -0.006179 -0.014333 -0.013000 -0.010796\n",
      "2012-04-10 -0.014078 -0.013503 -0.019881 -0.015007\n",
      "2012-04-11  0.001785  0.003422 -0.000507  0.007202\n",
      "2012-04-12  0.003445  0.005902  0.021563  0.004538\n",
      "2012-04-13 -0.003078 -0.010562 -0.015396 -0.001506\n",
      "2012-04-16  0.007837 -0.000132 -0.006053  0.001645\n",
      "2012-04-17  0.007304  0.013839  0.018269  0.011525\n"
     ]
    },
    {
     "data": {
      "text/html": [
       "<div>\n",
       "<style scoped>\n",
       "    .dataframe tbody tr th:only-of-type {\n",
       "        vertical-align: middle;\n",
       "    }\n",
       "\n",
       "    .dataframe tbody tr th {\n",
       "        vertical-align: top;\n",
       "    }\n",
       "\n",
       "    .dataframe thead th {\n",
       "        text-align: right;\n",
       "    }\n",
       "</style>\n",
       "<table border=\"1\" class=\"dataframe\">\n",
       "  <thead>\n",
       "    <tr style=\"text-align: right;\">\n",
       "      <th></th>\n",
       "      <th>IDU</th>\n",
       "      <th>IYH</th>\n",
       "      <th>IYE</th>\n",
       "      <th>IYK</th>\n",
       "    </tr>\n",
       "  </thead>\n",
       "  <tbody>\n",
       "    <tr>\n",
       "      <th>weights</th>\n",
       "      <td>0.372566</td>\n",
       "      <td>0.237078</td>\n",
       "      <td>0.14155</td>\n",
       "      <td>0.248806</td>\n",
       "    </tr>\n",
       "  </tbody>\n",
       "</table>\n",
       "</div>"
      ],
      "text/plain": [
       "              IDU       IYH      IYE       IYK\n",
       "weights  0.372566  0.237078  0.14155  0.248806"
      ]
     },
     "metadata": {},
     "output_type": "display_data"
    },
    {
     "name": "stderr",
     "output_type": "stream",
     "text": [
      "/tmp/ipykernel_20935/2870847099.py:37: FutureWarning: The frame.append method is deprecated and will be removed from pandas in a future version. Use pandas.concat instead.\n",
      "  buket = buket.append(w_rp.T.iloc[0], ignore_index=True)\n"
     ]
    },
    {
     "name": "stdout",
     "output_type": "stream",
     "text": [
      "                 IDU       IYH       IYE       IYK\n",
      "Date                                              \n",
      "2015-12-02 -0.021226 -0.008205 -0.032015 -0.007397\n",
      "2015-12-03 -0.009240 -0.023364 -0.018553 -0.010810\n",
      "2015-12-04  0.013133  0.023177 -0.007397  0.020786\n",
      "2015-12-07  0.002912 -0.007948 -0.037814 -0.000182\n",
      "2015-12-08 -0.001030  0.003271 -0.012909 -0.003918\n",
      "2015-12-09 -0.000469 -0.010714  0.013078 -0.010612\n",
      "2015-12-10 -0.015946  0.007467  0.008032  0.000740\n",
      "2015-12-11 -0.004003 -0.016292 -0.035287 -0.015153\n",
      "2015-12-14  0.003541  0.005430  0.005900  0.006286\n",
      "2015-12-15  0.009537  0.015122  0.029619  0.010908\n"
     ]
    },
    {
     "data": {
      "text/html": [
       "<div>\n",
       "<style scoped>\n",
       "    .dataframe tbody tr th:only-of-type {\n",
       "        vertical-align: middle;\n",
       "    }\n",
       "\n",
       "    .dataframe tbody tr th {\n",
       "        vertical-align: top;\n",
       "    }\n",
       "\n",
       "    .dataframe thead th {\n",
       "        text-align: right;\n",
       "    }\n",
       "</style>\n",
       "<table border=\"1\" class=\"dataframe\">\n",
       "  <thead>\n",
       "    <tr style=\"text-align: right;\">\n",
       "      <th></th>\n",
       "      <th>IDU</th>\n",
       "      <th>IYH</th>\n",
       "      <th>IYE</th>\n",
       "      <th>IYK</th>\n",
       "    </tr>\n",
       "  </thead>\n",
       "  <tbody>\n",
       "    <tr>\n",
       "      <th>weights</th>\n",
       "      <td>0.287282</td>\n",
       "      <td>0.265349</td>\n",
       "      <td>0.166196</td>\n",
       "      <td>0.281174</td>\n",
       "    </tr>\n",
       "  </tbody>\n",
       "</table>\n",
       "</div>"
      ],
      "text/plain": [
       "              IDU       IYH       IYE       IYK\n",
       "weights  0.287282  0.265349  0.166196  0.281174"
      ]
     },
     "metadata": {},
     "output_type": "display_data"
    },
    {
     "name": "stderr",
     "output_type": "stream",
     "text": [
      "/tmp/ipykernel_20935/2870847099.py:37: FutureWarning: The frame.append method is deprecated and will be removed from pandas in a future version. Use pandas.concat instead.\n",
      "  buket = buket.append(w_rp.T.iloc[0], ignore_index=True)\n"
     ]
    },
    {
     "name": "stdout",
     "output_type": "stream",
     "text": [
      "                 IDU       IYH       IYE       IYK\n",
      "Date                                              \n",
      "2018-10-02  0.012280 -0.002892  0.000470 -0.000336\n",
      "2018-10-03 -0.010652 -0.002065  0.009394 -0.007814\n",
      "2018-10-04  0.004935 -0.010394 -0.006282 -0.008722\n",
      "2018-10-05  0.014285 -0.001792 -0.001171 -0.001879\n",
      "2018-10-08  0.007995 -0.002094 -0.000234  0.007532\n",
      "2018-10-09  0.004002  0.001749  0.009379 -0.006796\n",
      "2018-10-10 -0.004856 -0.024642 -0.036702 -0.021382\n",
      "2018-10-11 -0.020248 -0.024651 -0.030383 -0.020014\n",
      "2018-10-12 -0.000669  0.015783  0.003979  0.005262\n",
      "2018-10-15  0.002976 -0.008363 -0.006193  0.004968\n"
     ]
    },
    {
     "data": {
      "text/html": [
       "<div>\n",
       "<style scoped>\n",
       "    .dataframe tbody tr th:only-of-type {\n",
       "        vertical-align: middle;\n",
       "    }\n",
       "\n",
       "    .dataframe tbody tr th {\n",
       "        vertical-align: top;\n",
       "    }\n",
       "\n",
       "    .dataframe thead th {\n",
       "        text-align: right;\n",
       "    }\n",
       "</style>\n",
       "<table border=\"1\" class=\"dataframe\">\n",
       "  <thead>\n",
       "    <tr style=\"text-align: right;\">\n",
       "      <th></th>\n",
       "      <th>IDU</th>\n",
       "      <th>IYH</th>\n",
       "      <th>IYE</th>\n",
       "      <th>IYK</th>\n",
       "    </tr>\n",
       "  </thead>\n",
       "  <tbody>\n",
       "    <tr>\n",
       "      <th>weights</th>\n",
       "      <td>0.34892</td>\n",
       "      <td>0.210991</td>\n",
       "      <td>0.180908</td>\n",
       "      <td>0.259181</td>\n",
       "    </tr>\n",
       "  </tbody>\n",
       "</table>\n",
       "</div>"
      ],
      "text/plain": [
       "             IDU       IYH       IYE       IYK\n",
       "weights  0.34892  0.210991  0.180908  0.259181"
      ]
     },
     "metadata": {},
     "output_type": "display_data"
    },
    {
     "name": "stderr",
     "output_type": "stream",
     "text": [
      "/tmp/ipykernel_20935/2870847099.py:37: FutureWarning: The frame.append method is deprecated and will be removed from pandas in a future version. Use pandas.concat instead.\n",
      "  buket = buket.append(w_rp.T.iloc[0], ignore_index=True)\n"
     ]
    },
    {
     "name": "stdout",
     "output_type": "stream",
     "text": [
      "                 IDU       IYH       IYE       IYK\n",
      "Date                                              \n",
      "2020-01-03  0.000812 -0.008883 -0.002778 -0.002484\n",
      "2020-01-06  0.001436  0.007235  0.007119  0.002188\n",
      "2020-01-07 -0.001309 -0.002827 -0.001537 -0.004970\n",
      "2020-01-08 -0.000187  0.006599 -0.017852  0.005448\n",
      "2020-01-09  0.004558  0.004802  0.005954  0.003161\n",
      "2020-01-10  0.002486  0.000781 -0.006231 -0.001651\n",
      "2020-01-13  0.006014 -0.004270  0.000627  0.011423\n",
      "2020-01-14  0.003143  0.005948  0.000627  0.002378\n",
      "2020-01-15  0.013885  0.008480 -0.005949  0.004818\n",
      "2020-01-16  0.006181  0.005545  0.000315  0.004574\n"
     ]
    },
    {
     "data": {
      "text/html": [
       "<div>\n",
       "<style scoped>\n",
       "    .dataframe tbody tr th:only-of-type {\n",
       "        vertical-align: middle;\n",
       "    }\n",
       "\n",
       "    .dataframe tbody tr th {\n",
       "        vertical-align: top;\n",
       "    }\n",
       "\n",
       "    .dataframe thead th {\n",
       "        text-align: right;\n",
       "    }\n",
       "</style>\n",
       "<table border=\"1\" class=\"dataframe\">\n",
       "  <thead>\n",
       "    <tr style=\"text-align: right;\">\n",
       "      <th></th>\n",
       "      <th>IDU</th>\n",
       "      <th>IYH</th>\n",
       "      <th>IYE</th>\n",
       "      <th>IYK</th>\n",
       "    </tr>\n",
       "  </thead>\n",
       "  <tbody>\n",
       "    <tr>\n",
       "      <th>weights</th>\n",
       "      <td>0.241691</td>\n",
       "      <td>0.291739</td>\n",
       "      <td>0.191841</td>\n",
       "      <td>0.274728</td>\n",
       "    </tr>\n",
       "  </tbody>\n",
       "</table>\n",
       "</div>"
      ],
      "text/plain": [
       "              IDU       IYH       IYE       IYK\n",
       "weights  0.241691  0.291739  0.191841  0.274728"
      ]
     },
     "metadata": {},
     "output_type": "display_data"
    },
    {
     "name": "stderr",
     "output_type": "stream",
     "text": [
      "/tmp/ipykernel_20935/2870847099.py:37: FutureWarning: The frame.append method is deprecated and will be removed from pandas in a future version. Use pandas.concat instead.\n",
      "  buket = buket.append(w_rp.T.iloc[0], ignore_index=True)\n"
     ]
    },
    {
     "data": {
      "image/png": "[encoded data removed]",
      "text/plain": [
       "<Figure size 432x288 with 1 Axes>"
      ]
     },
     "metadata": {},
     "output_type": "display_data"
    },
    {
     "data": {
      "image/png": "[encoded data removed]",
      "text/plain": [
       "<Figure size 432x288 with 1 Axes>"
      ]
     },
     "metadata": {},
     "output_type": "display_data"
    },
    {
     "data": {
      "image/png": "[encoded data removed]",
      "text/plain": [
       "<Figure size 432x288 with 1 Axes>"
      ]
     },
     "metadata": {},
     "output_type": "display_data"
    },
    {
     "data": {
      "image/png": "[encoded data removed]",
      "text/plain": [
       "<Figure size 432x288 with 1 Axes>"
      ]
     },
     "metadata": {},
     "output_type": "display_data"
    },
    {
     "data": {
      "image/png": "[encoded data removed]",
      "text/plain": [
       "<Figure size 432x288 with 1 Axes>"
      ]
     },
     "metadata": {},
     "output_type": "display_data"
    },
    {
     "data": {
      "image/png": "[encoded data removed]",
      "text/plain": [
       "<Figure size 432x288 with 1 Axes>"
      ]
     },
     "metadata": {},
     "output_type": "display_data"
    },
    {
     "data": {
      "image/png": "[encoded data removed]",
      "text/plain": [
       "<Figure size 432x288 with 1 Axes>"
      ]
     },
     "metadata": {},
     "output_type": "display_data"
    },
    {
     "data": {
      "image/png": "[encoded data removed]",
      "text/plain": [
       "<Figure size 432x288 with 1 Axes>"
      ]
     },
     "metadata": {},
     "output_type": "display_data"
    }
   ],
   "source": [
    "timeTarget = getDataRange('Stagflation')\n",
    "buket = pd.DataFrame()\n",
    "for j in range(1,len(timeTarget),2):\n",
    "    #greater than the start date and smaller than the end date\n",
    "    mask = (data['DateM'] >= timeTarget[j-1]) & (data['DateM'] <= timeTarget[j])\n",
    "    YY = data.loc[mask]\n",
    "    YY = YY.drop(columns='DateM')\n",
    "    if len(YY)>2:\n",
    "        Y = YY.pct_change().dropna()\n",
    "        print(Y.head(10))\n",
    "        # Building the portfolio object\n",
    "\n",
    "        port = rp.Portfolio(returns=Y)\n",
    "\n",
    "        # Calculating optimal portfolio\n",
    "\n",
    "        # Select method and estimate input parameters:\n",
    "\n",
    "        method_mu='hist' # Method to estimate expected returns based on historical data.\n",
    "        method_cov='hist' # Method to estimate covariance matrix based on historical data.\n",
    "\n",
    "        port.assets_stats(method_mu=method_mu, method_cov=method_cov, d=0.94)\n",
    "\n",
    "        # Estimate optimal portfolio:\n",
    "\n",
    "        model='Classic' # Could be Classic (historical) or FM (Factor Model)\n",
    "        rm = 'MV' # Risk measure used, this time will be variance\n",
    "        hist = True # Use historical scenarios for risk measures that depend on scenarios\n",
    "        rf = 0 # Risk free rate\n",
    "        b = None # Risk contribution constraints vector\n",
    "        w_rp = port.rp_optimization(model=model, rm=rm, rf=rf, b=b, hist=hist)\n",
    "        plot =w_rp.plot.pie(y='weights', title=\"Title\", legend=False, \\\n",
    "                           autopct='%1.1f%%',  \\\n",
    "                           shadow=True, startangle=0)\n",
    "        \n",
    "        display(w_rp.T)\n",
    "        buket = buket.append(w_rp.T.iloc[0], ignore_index=True)\n",
    "\n",
    "        \n"
   ]
  },
  {
   "cell_type": "code",
   "execution_count": 192,
   "id": "ccae8501",
   "metadata": {},
   "outputs": [
    {
     "name": "stdout",
     "output_type": "stream",
     "text": [
      "        IDU       IYH       IYE       IYK\n",
      "0  0.207298  0.247673  0.198199  0.346830\n",
      "1  0.290077  0.250380  0.153818  0.305725\n",
      "2  0.244490  0.307852  0.152383  0.295275\n",
      "3  0.310945  0.263915  0.156909  0.268231\n",
      "4  0.372566  0.237078  0.141550  0.248806\n",
      "5  0.287282  0.265349  0.166196  0.281174\n",
      "6  0.348920  0.210991  0.180908  0.259181\n",
      "7  0.241691  0.291739  0.191841  0.274728\n"
     ]
    }
   ],
   "source": [
    "print(buket)\n",
    "buket.to_csv('weights.csv')"
   ]
  },
  {
   "cell_type": "code",
   "execution_count": 193,
   "id": "134050ca",
   "metadata": {},
   "outputs": [
    {
     "name": "stdout",
     "output_type": "stream",
     "text": [
      "IDU    0.287909\n",
      "IYH    0.259372\n",
      "IYE    0.167726\n",
      "IYK    0.284994\n",
      "dtype: float64\n",
      "        IDU       IYH       IYE       IYK\n",
      "0  0.207298  0.247673  0.198199  0.346830\n",
      "1  0.290077  0.250380  0.153818  0.305725\n",
      "2  0.244490  0.307852  0.152383  0.295275\n",
      "3  0.310945  0.263915  0.156909  0.268231\n",
      "4  0.372566  0.237078  0.141550  0.248806\n",
      "        IDU       IYH       IYE      IYK\n",
      "0  0.207298  0.247673  0.198199  0.34683\n"
     ]
    }
   ],
   "source": [
    "print(buket.mean())\n",
    "ws = pd.read_csv('weights.csv')\n",
    "ws = ws.drop(['Unnamed: 0'], axis=1)\n",
    "print(ws.head())\n",
    "print(ws.iloc[:1])"
   ]
  },
  {
   "cell_type": "code",
   "execution_count": null,
   "id": "f35282e3",
   "metadata": {},
   "outputs": [],
   "source": []
  }
 ],
 "metadata": {
  "kernelspec": {
   "display_name": "Python 3 (ipykernel)",
   "language": "python",
   "name": "python3"
  },
  "language_info": {
   "codemirror_mode": {
    "name": "ipython",
    "version": 3
   },
   "file_extension": ".py",
   "mimetype": "text/x-python",
   "name": "python",
   "nbconvert_exporter": "python",
   "pygments_lexer": "ipython3",
   "version": "3.8.0"
  }
 },
 "nbformat": 4,
 "nbformat_minor": 5
}
