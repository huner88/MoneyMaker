{
 "cells": [
  {
   "cell_type": "code",
   "execution_count": null,
   "id": "288a300e",
   "metadata": {},
   "outputs": [],
   "source": [
    "#数据下载工具。因为没花钱，所以下载有限制，不要无限下载，下载后保存好使用。"
   ]
  },
  {
   "cell_type": "code",
   "execution_count": 1,
   "id": "f74ae4d5",
   "metadata": {},
   "outputs": [],
   "source": [
    "import pandas as pd\n",
    "from fredapi import Fred\n",
    "import numpy as np \n",
    "from matplotlib import pyplot as plt \n",
    "from matplotlib.pyplot import figure\n",
    "import bt# step 1: build Investment Clock Class\n",
    "from tiingo import TiingoClient\n",
    "%matplotlib inline"
   ]
  },
  {
   "cell_type": "code",
   "execution_count": null,
   "id": "ba351a40",
   "metadata": {},
   "outputs": [],
   "source": [
    "#mei guo hong guan shu ju\n",
    "\n",
    "fred = Fred(api_key=\"f47911535ed5029402710ad27afa0d23\")\n",
    "signals = pd.DataFrame(dict(\n",
    "    GDP = fred.get_series('GDPC1'),# Real GDP\n",
    "    CPI = fred.get_series('CPILFESL'), # Core CPI\n",
    "  )\n",
    ").fillna(method='ffill').pct_change(12).dropna()*100\n",
    "\n",
    "print(signals)\n"
   ]
  },
  {
   "cell_type": "code",
   "execution_count": null,
   "id": "3cc617b0",
   "metadata": {},
   "outputs": [],
   "source": [
    "# TiingoClient\n",
    "\n",
    "symbols = ['IYC','IDU','IYZ','IYW','IYJ','IYH','IYF','IYE','IYK','IYM','IYR']\n",
    "noa = len(symbols)\n",
    "\n",
    "config = {}\n",
    "#client = TiingoClient()\n",
    "config['session'] = False\n",
    "config['api_key'] = \"d32a305664615d26bbd98905ab7d4b801e70b713\"\n",
    "client = TiingoClient(config)\n",
    "\n",
    "\n",
    "dataUncut = pd.DataFrame()\n",
    "dataUncut = client.get_dataframe(symbols,\n",
    "                                      frequency='daily',\n",
    "                                      metric_name='adjClose',\n",
    "                                      startDate = '2002-07-29',\n",
    "                                      endDate='2021-08-19')\n",
    "print(dataUncut)\n",
    "\n",
    "dataUncut\n",
    "\n",
    "dataUncut.to_csv('ishareETF_data_2002.csv')"
   ]
  },
  {
   "cell_type": "code",
   "execution_count": null,
   "id": "9738c99c",
   "metadata": {},
   "outputs": [],
   "source": [
    "# TiingoClient\n",
    "\n",
    "symbols = ['IYC','IDU','IYZ','IYW','IYJ','IYH','IYF','IYE','IYK','IYM','IYR']\n",
    "noa = len(symbols)\n",
    "\n",
    "config = {}\n",
    "#client = TiingoClient()\n",
    "config['session'] = False\n",
    "config['api_key'] = \"d32a305664615d26bbd98905ab7d4b801e70b713\"\n",
    "client = TiingoClient(config)\n",
    "dataUncut = pd.DataFrame()\n",
    "dataUncut = client.get_dataframe(symbols,\n",
    "                                      frequency='daily',\n",
    "                                      metric_name='adjClose',\n",
    "                                      startDate = '2002-07-29',\n",
    "                                      endDate='2021-08-19')\n",
    "print(dataUncut)\n",
    "\n",
    "dataUncut\n",
    "\n",
    "dataUncut.to_csv('ishareETF_data_2002.csv')"
   ]
  }
 ],
 "metadata": {
  "kernelspec": {
   "display_name": "Python 3 (ipykernel)",
   "language": "python",
   "name": "python3"
  },
  "language_info": {
   "codemirror_mode": {
    "name": "ipython",
    "version": 3
   },
   "file_extension": ".py",
   "mimetype": "text/x-python",
   "name": "python",
   "nbconvert_exporter": "python",
   "pygments_lexer": "ipython3",
   "version": "3.8.0"
  }
 },
 "nbformat": 4,
 "nbformat_minor": 5
}
