{
 "cells": [
  {
   "cell_type": "code",
   "execution_count": 1,
   "id": "185ed29a",
   "metadata": {},
   "outputs": [],
   "source": [
    "import pandas as pd"
   ]
  },
  {
   "cell_type": "code",
   "execution_count": 2,
   "id": "f81f6461",
   "metadata": {},
   "outputs": [
    {
     "data": {
      "text/html": [
       "<div>\n",
       "<style scoped>\n",
       "    .dataframe tbody tr th:only-of-type {\n",
       "        vertical-align: middle;\n",
       "    }\n",
       "\n",
       "    .dataframe tbody tr th {\n",
       "        vertical-align: top;\n",
       "    }\n",
       "\n",
       "    .dataframe thead th {\n",
       "        text-align: right;\n",
       "    }\n",
       "</style>\n",
       "<table border=\"1\" class=\"dataframe\">\n",
       "  <thead>\n",
       "    <tr style=\"text-align: right;\">\n",
       "      <th></th>\n",
       "      <th>GDP</th>\n",
       "      <th>CPI</th>\n",
       "      <th>Growth</th>\n",
       "      <th>Inflation</th>\n",
       "      <th>Theme</th>\n",
       "    </tr>\n",
       "    <tr>\n",
       "      <th>Date</th>\n",
       "      <th></th>\n",
       "      <th></th>\n",
       "      <th></th>\n",
       "      <th></th>\n",
       "      <th></th>\n",
       "    </tr>\n",
       "  </thead>\n",
       "  <tbody>\n",
       "    <tr>\n",
       "      <th>1958-01-01</th>\n",
       "      <td>-2.871428</td>\n",
       "      <td>2.807018</td>\n",
       "      <td>low</td>\n",
       "      <td>high</td>\n",
       "      <td>Stagflation</td>\n",
       "    </tr>\n",
       "    <tr>\n",
       "      <th>1958-02-01</th>\n",
       "      <td>-2.871428</td>\n",
       "      <td>2.797203</td>\n",
       "      <td>low</td>\n",
       "      <td>high</td>\n",
       "      <td>Stagflation</td>\n",
       "    </tr>\n",
       "    <tr>\n",
       "      <th>1958-03-01</th>\n",
       "      <td>-2.871428</td>\n",
       "      <td>2.787456</td>\n",
       "      <td>low</td>\n",
       "      <td>high</td>\n",
       "      <td>Stagflation</td>\n",
       "    </tr>\n",
       "    <tr>\n",
       "      <th>1958-04-01</th>\n",
       "      <td>-2.018409</td>\n",
       "      <td>2.430556</td>\n",
       "      <td>low</td>\n",
       "      <td>high</td>\n",
       "      <td>Stagflation</td>\n",
       "    </tr>\n",
       "    <tr>\n",
       "      <th>1958-05-01</th>\n",
       "      <td>-2.018409</td>\n",
       "      <td>2.430556</td>\n",
       "      <td>low</td>\n",
       "      <td>high</td>\n",
       "      <td>Stagflation</td>\n",
       "    </tr>\n",
       "    <tr>\n",
       "      <th>...</th>\n",
       "      <td>...</td>\n",
       "      <td>...</td>\n",
       "      <td>...</td>\n",
       "      <td>...</td>\n",
       "      <td>...</td>\n",
       "    </tr>\n",
       "    <tr>\n",
       "      <th>2021-10-01</th>\n",
       "      <td>5.533484</td>\n",
       "      <td>4.593958</td>\n",
       "      <td>high</td>\n",
       "      <td>high</td>\n",
       "      <td>Overheat</td>\n",
       "    </tr>\n",
       "    <tr>\n",
       "      <th>2021-11-01</th>\n",
       "      <td>5.533484</td>\n",
       "      <td>4.952634</td>\n",
       "      <td>high</td>\n",
       "      <td>high</td>\n",
       "      <td>Overheat</td>\n",
       "    </tr>\n",
       "    <tr>\n",
       "      <th>2021-12-01</th>\n",
       "      <td>5.533484</td>\n",
       "      <td>5.476621</td>\n",
       "      <td>high</td>\n",
       "      <td>high</td>\n",
       "      <td>Overheat</td>\n",
       "    </tr>\n",
       "    <tr>\n",
       "      <th>2022-01-01</th>\n",
       "      <td>3.939172</td>\n",
       "      <td>6.040783</td>\n",
       "      <td>high</td>\n",
       "      <td>high</td>\n",
       "      <td>Overheat</td>\n",
       "    </tr>\n",
       "    <tr>\n",
       "      <th>2022-02-01</th>\n",
       "      <td>3.939172</td>\n",
       "      <td>6.415744</td>\n",
       "      <td>high</td>\n",
       "      <td>high</td>\n",
       "      <td>Overheat</td>\n",
       "    </tr>\n",
       "  </tbody>\n",
       "</table>\n",
       "<p>770 rows × 5 columns</p>\n",
       "</div>"
      ],
      "text/plain": [
       "                 GDP       CPI Growth Inflation        Theme\n",
       "Date                                                        \n",
       "1958-01-01 -2.871428  2.807018    low      high  Stagflation\n",
       "1958-02-01 -2.871428  2.797203    low      high  Stagflation\n",
       "1958-03-01 -2.871428  2.787456    low      high  Stagflation\n",
       "1958-04-01 -2.018409  2.430556    low      high  Stagflation\n",
       "1958-05-01 -2.018409  2.430556    low      high  Stagflation\n",
       "...              ...       ...    ...       ...          ...\n",
       "2021-10-01  5.533484  4.593958   high      high     Overheat\n",
       "2021-11-01  5.533484  4.952634   high      high     Overheat\n",
       "2021-12-01  5.533484  5.476621   high      high     Overheat\n",
       "2022-01-01  3.939172  6.040783   high      high     Overheat\n",
       "2022-02-01  3.939172  6.415744   high      high     Overheat\n",
       "\n",
       "[770 rows x 5 columns]"
      ]
     },
     "execution_count": 2,
     "metadata": {},
     "output_type": "execute_result"
    }
   ],
   "source": [
    "data = pd.read_csv('GDP_CPI.csv')\n",
    "data =data.set_index('Unnamed: 0')\n",
    "data.index.name = 'Date'\n",
    "data.index = pd.to_datetime(data.index).strftime('%Y/%m/%d')\n",
    "data.index = pd.to_datetime(data.index)\n",
    "data"
   ]
  },
  {
   "cell_type": "code",
   "execution_count": 3,
   "id": "d874fe33",
   "metadata": {},
   "outputs": [
    {
     "name": "stdout",
     "output_type": "stream",
     "text": [
      "Theme\n",
      "Overheat       371\n",
      "Recovery       111\n",
      "Reflection      87\n",
      "Stagflation    201\n",
      "dtype: int64\n"
     ]
    }
   ],
   "source": [
    "stagflationG = data.groupby(['Theme']).size()\n",
    "print(stagflationG)"
   ]
  },
  {
   "cell_type": "code",
   "execution_count": 4,
   "id": "d084c0d9",
   "metadata": {
    "scrolled": false
   },
   "outputs": [
    {
     "name": "stdout",
     "output_type": "stream",
     "text": [
      "current themes:\n",
      "Stagflation\n",
      "average time\n",
      "3.0454545454545454\n",
      "\n",
      "\n",
      "current themes:\n",
      "Recovery\n",
      "average time\n",
      "1.6818181818181819\n",
      "\n",
      "\n",
      "current themes:\n",
      "Overheat\n",
      "average time\n",
      "5.621212121212121\n",
      "\n",
      "\n",
      "current themes:\n",
      "Reflection\n",
      "average time\n",
      "1.3181818181818181\n",
      "\n",
      "\n"
     ]
    }
   ],
   "source": [
    "themes = ['Stagflation','Recovery','Overheat','Reflection']\n",
    "averageStateTime = []\n",
    "for i in themes:\n",
    "    print('current themes:')\n",
    "    print(i)\n",
    "    StateDurtionData = data.loc[data['Theme'] == i]\n",
    "    averageStateTime = []\n",
    "    for j in range(1957,2023):\n",
    "        #print('year')\n",
    "        #print(j)\n",
    "        result = StateDurtionData.loc[StateDurtionData.index.year == j]\n",
    "        averageStateTime.append(len(result))\n",
    "        #print('consistent time')\n",
    "        #print(len(result))\n",
    "    print('average time')\n",
    "#     print(result)\n",
    "#     print(len(result))\n",
    "    print(sum(averageStateTime)/len(averageStateTime))\n",
    "    print('\\n')\n",
    "# result = stagflationData.groupby([stagflationData.index.year,stagflationData.index.month]).first()\n",
    "# print(stagflationData.groupby([stagflationData.index.year,stagflationData.index.month]).first())\n",
    "#print(stagflationData.loc[stagflationData.index.year == 1958])"
   ]
  },
  {
   "cell_type": "code",
   "execution_count": 15,
   "id": "f8ac18e9",
   "metadata": {},
   "outputs": [
    {
     "name": "stdout",
     "output_type": "stream",
     "text": [
      "Stagflation to Recovery\n",
      "1\n",
      "Stagflation to Overheat\n",
      "12\n",
      "Stagflation to Reflection\n",
      "5\n"
     ]
    }
   ],
   "source": [
    "themeList = data['Theme'].values\n",
    "themeList\n",
    "s_r = 0\n",
    "s_o = 0\n",
    "s_rf = 0\n",
    "for i in range(0,len(themeList)):\n",
    "    if i!=len(themeList)-1:\n",
    "        if (themeList[i] == 'Stagflation') & (themeList[i+1] == 'Recovery'):\n",
    "            s_r += 1\n",
    "        elif (themeList[i] == 'Stagflation') & (themeList[i+1] == 'Overheat'):\n",
    "            s_o += 1\n",
    "        elif (themeList[i] == 'Stagflation') & (themeList[i+1] == 'Reflection'):\n",
    "            s_rf += 1\n",
    "        else:\n",
    "            a=1\n",
    "print('Stagflation to Recovery')\n",
    "print(s_r)\n",
    "print('Stagflation to Overheat')\n",
    "print(s_o)\n",
    "print('Stagflation to Reflection')\n",
    "print(s_rf)"
   ]
  },
  {
   "cell_type": "code",
   "execution_count": 17,
   "id": "8ff1ca03",
   "metadata": {},
   "outputs": [
    {
     "name": "stdout",
     "output_type": "stream",
     "text": [
      "Reflection to Recovery\n",
      "6\n",
      "Reflection to Overheat\n",
      "1\n",
      "Reflection to Stagflation\n",
      "2\n"
     ]
    }
   ],
   "source": [
    "themeList = data['Theme'].values\n",
    "themeList\n",
    "rf_r = 0\n",
    "rf_o = 0\n",
    "rf_s = 0\n",
    "for j in range(0,len(themeList)):\n",
    "    if j!=len(themeList)-1:\n",
    "        if (themeList[j] == 'Reflection') & (themeList[j+1] == 'Recovery'):\n",
    "            rf_r += 1\n",
    "        elif (themeList[j] == 'Reflection') & (themeList[j+1] == 'Overheat'):\n",
    "            rf_o += 1\n",
    "        elif (themeList[j] == 'Reflection') & (themeList[j+1] == 'Stagflation'):\n",
    "            rf_s += 1\n",
    "        else:\n",
    "            a=1\n",
    "print('Reflection to Recovery')\n",
    "print(rf_r)\n",
    "print('Reflection to Overheat')\n",
    "print(rf_o)\n",
    "print('Reflection to Stagflation')\n",
    "print(rf_s)"
   ]
  },
  {
   "cell_type": "code",
   "execution_count": 21,
   "id": "5bbf21e9",
   "metadata": {},
   "outputs": [
    {
     "name": "stdout",
     "output_type": "stream",
     "text": [
      "Recovery to Reflection\n",
      "3\n",
      "Recovery to Overheat\n",
      "11\n",
      "Recovery to Stagflation\n",
      "0\n"
     ]
    }
   ],
   "source": [
    "themeList = data['Theme'].values\n",
    "themeList\n",
    "r_rf = 0\n",
    "r_o = 0\n",
    "r_s = 0\n",
    "for k in range(0,len(themeList)):\n",
    "    if k!=len(themeList)-1:\n",
    "        if (themeList[k] == 'Recovery') & (themeList[k+1] == 'Reflection'):\n",
    "            r_rf += 1\n",
    "        elif (themeList[k] == 'Recovery') & (themeList[k+1] == 'Overheat'):\n",
    "            r_o += 1\n",
    "        elif (themeList[k] == 'Recovery') & (themeList[k+1] == 'Stagflation'):\n",
    "            r_s += 1\n",
    "        else:\n",
    "            a=1\n",
    "print('Recovery to Reflection')\n",
    "print(r_rf)\n",
    "print('Recovery to Overheat')\n",
    "print(r_o)\n",
    "print('Recovery to Stagflation')\n",
    "print(r_s)"
   ]
  },
  {
   "cell_type": "code",
   "execution_count": 20,
   "id": "caea187a",
   "metadata": {},
   "outputs": [
    {
     "name": "stdout",
     "output_type": "stream",
     "text": [
      "Overheat to Reflection\n",
      "1\n",
      "Overheat to Recovery\n",
      "7\n",
      "Overheat to Stagflation\n",
      "15\n"
     ]
    }
   ],
   "source": [
    "themeList = data['Theme'].values\n",
    "themeList\n",
    "o_rf = 0\n",
    "o_r = 0\n",
    "o_s = 0\n",
    "for k in range(0,len(themeList)):\n",
    "    if k!=len(themeList)-1:\n",
    "        if (themeList[k] == 'Overheat') & (themeList[k+1] == 'Reflection'):\n",
    "            o_rf += 1\n",
    "        elif (themeList[k] == 'Overheat') & (themeList[k+1] == 'Recovery'):\n",
    "            o_r += 1\n",
    "        elif (themeList[k] == 'Overheat') & (themeList[k+1] == 'Stagflation'):\n",
    "            o_s += 1\n",
    "        else:\n",
    "            a=1\n",
    "print('Overheat to Reflection')\n",
    "print(o_rf)\n",
    "print('Overheat to Recovery')\n",
    "print(o_r)\n",
    "print('Overheat to Stagflation')\n",
    "print(o_s)"
   ]
  },
  {
   "cell_type": "code",
   "execution_count": 21,
   "id": "c5f184c4",
   "metadata": {},
   "outputs": [
    {
     "name": "stdout",
     "output_type": "stream",
     "text": [
      "                 GDP       CPI Growth Inflation        Theme\n",
      "Date                                                        \n",
      "1958-01-01 -2.871428  2.807018    low      high  Stagflation\n",
      "1958-02-01 -2.871428  2.797203    low      high  Stagflation\n",
      "1958-03-01 -2.871428  2.787456    low      high  Stagflation\n",
      "1958-04-01 -2.018409  2.430556    low      high  Stagflation\n",
      "1958-05-01 -2.018409  2.430556    low      high  Stagflation\n",
      "...              ...       ...    ...       ...          ...\n",
      "2019-08-01  2.318326  2.366797    low      high  Stagflation\n",
      "2019-09-01  2.318326  2.353146    low      high  Stagflation\n",
      "2020-01-01  0.630785  2.258438    low      high  Stagflation\n",
      "2020-02-01  0.630785  2.375759    low      high  Stagflation\n",
      "2020-03-01  0.630785  2.117208    low      high  Stagflation\n",
      "\n",
      "[201 rows x 5 columns]\n"
     ]
    }
   ],
   "source": [
    "stagflationData = data.loc[data['Theme'] == 'Stagflation']\n",
    "print(stagflationData)\n",
    "stagflationData.to_csv('stagflation.csv')"
   ]
  },
  {
   "cell_type": "code",
   "execution_count": 18,
   "id": "009c68e6",
   "metadata": {},
   "outputs": [
    {
     "name": "stdout",
     "output_type": "stream",
     "text": [
      "                 GDP       CPI Growth Inflation     Theme\n",
      "Date                                                     \n",
      "1958-10-01  2.658137  1.712329   high       low  Recovery\n",
      "1958-11-01  2.658137  1.706485   high       low  Recovery\n",
      "1959-02-01  7.416649  1.700680   high       low  Recovery\n",
      "1959-03-01  7.416649  1.694915   high       low  Recovery\n",
      "1959-04-01  9.121898  1.694915   high       low  Recovery\n",
      "...              ...       ...    ...       ...       ...\n",
      "2017-10-01  2.717886  1.759639   high       low  Recovery\n",
      "2017-11-01  2.717886  1.737607   high       low  Recovery\n",
      "2017-12-01  2.717886  1.770166   high       low  Recovery\n",
      "2018-01-01  3.015312  1.838566   high       low  Recovery\n",
      "2018-02-01  3.015312  1.820732   high       low  Recovery\n",
      "\n",
      "[111 rows x 5 columns]\n"
     ]
    }
   ],
   "source": [
    "RecoveryData = data.loc[data['Theme'] == 'Recovery']\n",
    "print(RecoveryData)\n",
    "RecoveryData.to_csv('Recovery.csv')"
   ]
  },
  {
   "cell_type": "code",
   "execution_count": 19,
   "id": "cde37c61",
   "metadata": {},
   "outputs": [
    {
     "name": "stdout",
     "output_type": "stream",
     "text": [
      "                 GDP       CPI Growth Inflation     Theme\n",
      "Date                                                     \n",
      "1958-12-01  2.658137  2.047782   high      high  Overheat\n",
      "1959-01-01  7.416649  2.047782   high      high  Overheat\n",
      "1959-05-01  9.121898  2.033898   high      high  Overheat\n",
      "1959-06-01  9.121898  2.027027   high      high  Overheat\n",
      "1959-07-01  6.729999  2.027027   high      high  Overheat\n",
      "...              ...       ...    ...       ...       ...\n",
      "2021-10-01  5.533484  4.593958   high      high  Overheat\n",
      "2021-11-01  5.533484  4.952634   high      high  Overheat\n",
      "2021-12-01  5.533484  5.476621   high      high  Overheat\n",
      "2022-01-01  3.939172  6.040783   high      high  Overheat\n",
      "2022-02-01  3.939172  6.415744   high      high  Overheat\n",
      "\n",
      "[371 rows x 5 columns]\n"
     ]
    }
   ],
   "source": [
    "OverheatnData = data.loc[data['Theme'] == 'Overheat']\n",
    "print(OverheatnData)\n",
    "OverheatnData.to_csv('Overheatn.csv')"
   ]
  },
  {
   "cell_type": "code",
   "execution_count": 20,
   "id": "d752176b",
   "metadata": {},
   "outputs": [
    {
     "name": "stdout",
     "output_type": "stream",
     "text": [
      "                 GDP       CPI Growth Inflation       Theme\n",
      "Date                                                       \n",
      "1960-05-01  2.058208  1.661130    low       low  Reflection\n",
      "1960-06-01  2.058208  1.655629    low       low  Reflection\n",
      "1960-07-01  2.485389  1.324503    low       low  Reflection\n",
      "1960-08-01  2.485389  1.324503    low       low  Reflection\n",
      "1960-09-01  2.485389  0.990099    low       low  Reflection\n",
      "...              ...       ...    ...       ...         ...\n",
      "2020-11-01 -2.262915  1.640542    low       low  Reflection\n",
      "2020-12-01 -2.262915  1.596285    low       low  Reflection\n",
      "2021-01-01  0.546977  1.387294    low       low  Reflection\n",
      "2021-02-01  0.546977  1.287615    low       low  Reflection\n",
      "2021-03-01  0.546977  1.660073    low       low  Reflection\n",
      "\n",
      "[87 rows x 5 columns]\n"
     ]
    }
   ],
   "source": [
    "ReflectionData = data.loc[data['Theme'] == 'Reflection']\n",
    "print(ReflectionData)\n",
    "ReflectionData.to_csv('Reflection.csv')"
   ]
  },
  {
   "cell_type": "code",
   "execution_count": null,
   "id": "f8d14dad",
   "metadata": {},
   "outputs": [],
   "source": []
  },
  {
   "cell_type": "code",
   "execution_count": null,
   "id": "58bb6217",
   "metadata": {},
   "outputs": [],
   "source": []
  }
 ],
 "metadata": {
  "kernelspec": {
   "display_name": "Python 3 (ipykernel)",
   "language": "python",
   "name": "python3"
  },
  "language_info": {
   "codemirror_mode": {
    "name": "ipython",
    "version": 3
   },
   "file_extension": ".py",
   "mimetype": "text/x-python",
   "name": "python",
   "nbconvert_exporter": "python",
   "pygments_lexer": "ipython3",
   "version": "3.8.0"
  }
 },
 "nbformat": 4,
 "nbformat_minor": 5
}
