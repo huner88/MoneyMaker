{
 "cells": [
  {
   "cell_type": "code",
   "execution_count": 7,
   "id": "9bc02a26",
   "metadata": {},
   "outputs": [],
   "source": [
    "class test():\n",
    "    def __init__(self, a, b):\n",
    "        self.a = a\n",
    "        self.b = b\n",
    "    def abtest(self):\n",
    "        print('Hello, my name is', self.a)"
   ]
  },
  {
   "cell_type": "code",
   "execution_count": 8,
   "id": "59ea87af",
   "metadata": {},
   "outputs": [
    {
     "name": "stdout",
     "output_type": "stream",
     "text": [
      "Hello, my name is 1\n"
     ]
    }
   ],
   "source": [
    "c = test(1,2)\n",
    "c.abtest()"
   ]
  },
  {
   "cell_type": "code",
   "execution_count": 10,
   "id": "096b6bb6",
   "metadata": {},
   "outputs": [],
   "source": [
    "class calltest():\n",
    "    def __init__(self, a, b):\n",
    "        self.a = a\n",
    "        self.b = b\n",
    "        print(self.a)\n",
    "    def __call__(self, c, d):\n",
    "        print(c - self.a)"
   ]
  },
  {
   "cell_type": "code",
   "execution_count": 13,
   "id": "c0f4fe29",
   "metadata": {},
   "outputs": [
    {
     "name": "stdout",
     "output_type": "stream",
     "text": [
      "1\n",
      "2\n"
     ]
    }
   ],
   "source": [
    "ans = calltest(1,2)\n",
    "ans(3,4)"
   ]
  },
  {
   "cell_type": "code",
   "execution_count": null,
   "id": "0eebdbcb",
   "metadata": {},
   "outputs": [],
   "source": []
  }
 ],
 "metadata": {
  "kernelspec": {
   "display_name": "Python 3 (ipykernel)",
   "language": "python",
   "name": "python3"
  },
  "language_info": {
   "codemirror_mode": {
    "name": "ipython",
    "version": 3
   },
   "file_extension": ".py",
   "mimetype": "text/x-python",
   "name": "python",
   "nbconvert_exporter": "python",
   "pygments_lexer": "ipython3",
   "version": "3.8.0"
  }
 },
 "nbformat": 4,
 "nbformat_minor": 5
}
